{
 "cells": [
  {
   "cell_type": "code",
   "execution_count": 1,
   "metadata": {},
   "outputs": [
    {
     "data": {
      "application/javascript": [
       "IPython.OutputArea.auto_scroll_threshold = 9999;\n"
      ],
      "text/plain": [
       "<IPython.core.display.Javascript object>"
      ]
     },
     "metadata": {},
     "output_type": "display_data"
    }
   ],
   "source": [
    "%%javascript\n",
    "IPython.OutputArea.auto_scroll_threshold = 9999;"
   ]
  },
  {
   "cell_type": "code",
   "execution_count": 2,
   "metadata": {},
   "outputs": [],
   "source": [
    "import pickle\n",
    "import numpy as np\n",
    "from sklearn import svm\n",
    "import seaborn as sns\n",
    "import matplotlib.pyplot as plt\n",
    "from sklearn.metrics import accuracy_score\n",
    "from sklearn.metrics import confusion_matrix\n",
    "from sklearn.metrics import roc_curve,auc\n",
    "from sklearn.model_selection import KFold\n",
    "from sklearn.preprocessing import label_binarize\n",
    "import warnings\n",
    "warnings.filterwarnings(action=\"ignore\",category=DeprecationWarning)\n",
    "warnings.filterwarnings(action=\"ignore\",category=FutureWarning)\n",
    "\n",
    "def unpickle(file):\n",
    "    with open(file, 'rb') as fo:\n",
    "        dict = pickle.load(fo, encoding='latin1')\n",
    "    return dict"
   ]
  },
  {
   "cell_type": "code",
   "execution_count": 3,
   "metadata": {},
   "outputs": [],
   "source": [
    "data = unpickle('cifar-10-batches-py/data_batch_2')    #data_batch_2 from 9000-10000, std=min=4.77\n",
    "X_train = data['data']\n",
    "Y_train = data['labels']\n",
    "Y_train = np.array(Y_train)\n",
    "X_train = X_train[9000:10000, :]\n",
    "Y_train = Y_train[9000:10000]\n",
    "\n",
    "test_data = unpickle('cifar-10-batches-py/test_batch')\n",
    "X_test = test_data['data']\n",
    "Y_test = test_data['labels']\n",
    "Y_test = np.array(Y_test)\n",
    "X_test = X_test[0:1000,:]\n",
    "Y_test = Y_test[0:1000]\n",
    "# arr = np.zeros(10)\n",
    "# for i in range(1000):\n",
    "#     arr[Y[i]]+=1\n",
    "# print(arr)\n",
    "# print(np.std(arr))"
   ]
  },
  {
   "cell_type": "code",
   "execution_count": 4,
   "metadata": {},
   "outputs": [],
   "source": [
    "def classifier(X_train,Y_train, X_test, Y_test, kernel_type, decFuncShape):\n",
    "    print(kernel_type,\" kernel\", \" & \", decFuncShape , \" classification method\" )\n",
    "    kf = KFold(n_splits = 5, shuffle = False)\n",
    "    fold_count = 1\n",
    "    for train_index, validation_index in kf.split(X_train):\n",
    "        print(\"Fold : \", fold_count)\n",
    "        X_train_fold, X_validation_fold = X_train[train_index], X_train[validation_index]\n",
    "        Y_train_fold, Y_validation_fold = Y_train[train_index], Y_train[validation_index]\n",
    "        \n",
    "        if(kernel_type == 'rbf'):\n",
    "            clf = svm.SVC(kernel = kernel_type, gamma = 'scale', C=1,decision_function_shape=decFuncShape,probability = True).fit(X_train_fold, Y_train_fold)\n",
    "        elif(kernel_type == 'poly'):\n",
    "            clf = svm.SVC(kernel = kernel_type, degree = 2, C=1,decision_function_shape=decFuncShape,probability = True).fit(X_train_fold, Y_train_fold)\n",
    "        elif(kernel_type == 'linear'):\n",
    "            clf = svm.SVC(kernel = kernel_type, C=1,decision_function_shape=decFuncShape, probability = True).fit(X_train_fold, Y_train_fold)\n",
    "        else:\n",
    "            print(\"Invalid kernel\")\n",
    "            break\n",
    "          \n",
    "        #confusion matrix: \n",
    "        ticklabels = ['airplane','automobile','bird','cat','deer','dog','frog','horse','ship','truck']\n",
    "        y_pred1 = clf.predict(X_test)\n",
    "        acc = accuracy_score(Y_test, y_pred1) * 100\n",
    "        print(\"Accuracy : \", acc , \"%\")\n",
    "        cm = confusion_matrix(Y_test, y_pred1)\n",
    "        fig, ax = plt.subplots(figsize=(10,10))\n",
    "        sns.heatmap(cm, annot=True, fmt='d',xticklabels= ticklabels, yticklabels= ticklabels, cmap=\"YlGnBu\")\n",
    "        plt.ylabel('Actual')\n",
    "        plt.xlabel('Predicted')\n",
    "        plt.show()\n",
    "\n",
    "        #roc-auc curve:\n",
    "        y_pred = clf.predict_proba(X_test)\n",
    "        Y_test_f = label_binarize(Y_test, classes=[0,1,2,3,4,5,6,7,8,9])\n",
    "#         y_pred = label_binarize(y_pred, classes=[0,1,2,3,4,5,6,7,8,9])\n",
    "        numClasses = 10\n",
    "        \n",
    "        fpr = dict()\n",
    "        tpr = dict()\n",
    "        roc_auc = dict()\n",
    "        for i in range(numClasses):\n",
    "            fpr[i], tpr[i], _ = roc_curve(Y_test_f[:, i], y_pred[:, i])\n",
    "            roc_auc[i] = auc(fpr[i], tpr[i])\n",
    "\n",
    "        colors = ['aqua', 'darkorange', 'cornflowerblue','darkolivegreen','navy','fuchsia','dimgray','red','yellow','lawngreen']\n",
    "        for i, color in zip(range(numClasses), colors):\n",
    "            plt.plot(fpr[i], tpr[i], color=color, lw=2,label='ROC curve of class {0} (area = {1:0.2f})'''.format(i, roc_auc[i]))\n",
    "\n",
    "        plt.plot([0, 1], [0, 1], 'k--')\n",
    "        plt.xlim([0.0, 1.05])\n",
    "        plt.ylim([0.0, 1.05])\n",
    "        plt.xlabel('False Positive Rate')\n",
    "        plt.ylabel('True Positive Rate')\n",
    "        plt.title('Kernel: ' + kernel_type + \" ,Method: \" + decFuncShape + \" ,Fold: \" + str(fold_count))\n",
    "        plt.legend(loc=(1.04,0))\n",
    "        plt.show()\n",
    "        \n",
    "        fold_count+=1"
   ]
  },
  {
   "cell_type": "code",
   "execution_count": null,
   "metadata": {},
   "outputs": [],
   "source": [
    "if __name__ == '__main__':\n",
    "    #SVM WITH NO KERNEL\n",
    "    classifier(X_train,Y_train,X_test,Y_test,'linear','ovr')  #ONE-VS-ALL CLASSIFICATION METHOD\n",
    "    classifier(X_train,Y_train,X_test,Y_test,'linear','ovo')  #ONE-VS-ONE CLASSIFICATION METHOD\n",
    "\n",
    "    #SVM WITH RBF KERNEL\n",
    "    classifier(X_train,Y_train,X_test,Y_test,'rbf','ovr')     #ONE-VS-ALL CLASSIFICATION METHOD\n",
    "    classifier(X_train,Y_train,X_test,Y_test,'rbf','ovo')     #ONE-VS-ONE CLASSIFICATION METHOD\n",
    "\n",
    "    #SVM WITH QUADRATIC POLYNOMIAL KERNEL\n",
    "    classifier(X_train,Y_train,X_test,Y_test,'poly','ovr')    #ONE-VS-ALL CLASSIFICATION METHOD\n",
    "    classifier(X_train,Y_train,X_test,Y_test,'poly','ovo')    #ONE-VS-ONE CLASSIFICATION METHOD"
   ]
  },
  {
   "cell_type": "code",
   "execution_count": null,
   "metadata": {
    "scrolled": true
   },
   "outputs": [],
   "source": []
  },
  {
   "cell_type": "code",
   "execution_count": null,
   "metadata": {},
   "outputs": [],
   "source": []
  }
 ],
 "metadata": {
  "kernelspec": {
   "display_name": "Python 3",
   "language": "python",
   "name": "python3"
  },
  "language_info": {
   "codemirror_mode": {
    "name": "ipython",
    "version": 3
   },
   "file_extension": ".py",
   "mimetype": "text/x-python",
   "name": "python",
   "nbconvert_exporter": "python",
   "pygments_lexer": "ipython3",
   "version": "3.7.3"
  }
 },
 "nbformat": 4,
 "nbformat_minor": 2
}
